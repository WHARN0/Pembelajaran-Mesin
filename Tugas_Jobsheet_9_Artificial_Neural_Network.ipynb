{
  "nbformat": 4,
  "nbformat_minor": 0,
  "metadata": {
    "colab": {
      "provenance": [],
      "authorship_tag": "ABX9TyN+q93I+IAvAGwLf16rAB8h",
      "include_colab_link": true
    },
    "kernelspec": {
      "name": "python3",
      "display_name": "Python 3"
    },
    "language_info": {
      "name": "python"
    }
  },
  "cells": [
    {
      "cell_type": "markdown",
      "metadata": {
        "id": "view-in-github",
        "colab_type": "text"
      },
      "source": [
        "<a href=\"https://colab.research.google.com/github/WHARN0/Pembelajaran-Mesin/blob/main/Tugas_Jobsheet_9_Artificial_Neural_Network.ipynb\" target=\"_parent\"><img src=\"https://colab.research.google.com/assets/colab-badge.svg\" alt=\"Open In Colab\"/></a>"
      ]
    },
    {
      "cell_type": "markdown",
      "source": [
        "# **Tugas**\n",
        "\n",
        "- Lakukan klasifikasi pada data MNIST dengan menggunakan model ANN\n",
        "\n",
        "- Anda diperbolehkan melakukan eksplorasi terhadap,\n",
        "\n",
        "  - Metode pra pengolahan\n",
        "\n",
        "  - Pemilihan fitur\n",
        "\n",
        "  - Arsitektur ANN\n",
        "\n",
        "  - Fungsi Aktiviasi\n",
        "\n",
        "- ANN diimplementasikan dengan menggunakan tensorflow.\n",
        "\n",
        "- DIKERJAKAN SECARA BERKELOMPOK\n",
        "\n",
        "- JELASKAN HASIL YANG ANDA DAPATKAN,\n",
        "\n",
        "  - AKURASI\n",
        "\n",
        "  - ONFUSION MATRIX\n",
        "\n",
        "  - KONFIGURASI MODEL --> MULAI DARI PRA PENGOLAHAN SAMPAI ARSITEKTUR ANN"
      ],
      "metadata": {
        "id": "dijsmCouEHZc"
      }
    },
    {
      "cell_type": "markdown",
      "source": [
        "Import Library"
      ],
      "metadata": {
        "id": "17eeFuJlPjp0"
      }
    },
    {
      "cell_type": "code",
      "execution_count": 1,
      "metadata": {
        "id": "OmT8EjXODTHz"
      },
      "outputs": [],
      "source": [
        "import numpy as np\n",
        "import tensorflow as tf\n",
        "from tensorflow.keras.datasets import mnist\n",
        "from tensorflow.keras.models import Sequential\n",
        "from tensorflow.keras.layers import Dense, Flatten, Input\n",
        "from sklearn.metrics import confusion_matrix, accuracy_score\n",
        "import seaborn as sns\n",
        "import matplotlib.pyplot as plt"
      ]
    },
    {
      "cell_type": "markdown",
      "source": [
        "Pra-pengolahan Data"
      ],
      "metadata": {
        "id": "mzfkD2DKPu9-"
      }
    },
    {
      "cell_type": "code",
      "source": [
        "# Load dataset MNIST\n",
        "(X_train, y_train), (X_test, y_test) = mnist.load_data()\n",
        "\n",
        "# Normalisasi pixel ke rentang [0, 1]\n",
        "X_train = X_train / 255.0\n",
        "X_test = X_test / 255.0\n",
        "\n",
        "# One-hot encoding pada label\n",
        "y_train = tf.keras.utils.to_categorical(y_train, 10)\n",
        "y_test = tf.keras.utils.to_categorical(y_test, 10)"
      ],
      "metadata": {
        "colab": {
          "base_uri": "https://localhost:8080/"
        },
        "id": "BpU3NKUiPqi1",
        "outputId": "900f6ff5-b1bf-40ae-de2a-4ee855ad4367"
      },
      "execution_count": 2,
      "outputs": [
        {
          "output_type": "stream",
          "name": "stdout",
          "text": [
            "Downloading data from https://storage.googleapis.com/tensorflow/tf-keras-datasets/mnist.npz\n",
            "\u001b[1m11490434/11490434\u001b[0m \u001b[32m━━━━━━━━━━━━━━━━━━━━\u001b[0m\u001b[37m\u001b[0m \u001b[1m0s\u001b[0m 0us/step\n"
          ]
        }
      ]
    },
    {
      "cell_type": "markdown",
      "source": [
        "ANN"
      ],
      "metadata": {
        "id": "GOvKyu_-P1gt"
      }
    },
    {
      "cell_type": "code",
      "source": [
        "# Inisiasi model ANN\n",
        "model = Sequential()\n",
        "\n",
        "# Input layer with shape (28, 28)\n",
        "model.add(Input(shape=(28, 28)))\n",
        "\n",
        "# Flatten layer to flatten input 28x28 into a vector 784\n",
        "model.add(Flatten())\n",
        "\n",
        "# Hidden layer pertama dengan 128 neuron dan ReLU\n",
        "model.add(Dense(units=128, activation='relu'))\n",
        "\n",
        "# Hidden layer kedua dengan 64 neuron dan ReLU\n",
        "model.add(Dense(units=64, activation='relu'))\n",
        "\n",
        "# Output layer dengan 10 neuron (untuk 10 digit) dan softmax activation\n",
        "model.add(Dense(units=10, activation='softmax'))"
      ],
      "metadata": {
        "id": "Gm9gCSl9P2Le"
      },
      "execution_count": 3,
      "outputs": []
    },
    {
      "cell_type": "markdown",
      "source": [
        "Kompilasi dan Pelatihan Model"
      ],
      "metadata": {
        "id": "9XvccfyzP6Nn"
      }
    },
    {
      "cell_type": "code",
      "source": [
        "# Kompilasi model\n",
        "model.compile(optimizer='adam', loss='categorical_crossentropy', metrics=['accuracy'])\n",
        "\n",
        "# Latih model dengan data latih\n",
        "history = model.fit(X_train, y_train, batch_size=32, epochs=10, validation_split=0.2)"
      ],
      "metadata": {
        "colab": {
          "base_uri": "https://localhost:8080/"
        },
        "id": "CJPUFwhKP4Xj",
        "outputId": "9da4e9ae-1fcf-427b-9f17-c503cc78ba1b"
      },
      "execution_count": 4,
      "outputs": [
        {
          "output_type": "stream",
          "name": "stdout",
          "text": [
            "Epoch 1/10\n",
            "\u001b[1m1500/1500\u001b[0m \u001b[32m━━━━━━━━━━━━━━━━━━━━\u001b[0m\u001b[37m\u001b[0m \u001b[1m8s\u001b[0m 4ms/step - accuracy: 0.8623 - loss: 0.4698 - val_accuracy: 0.9610 - val_loss: 0.1347\n",
            "Epoch 2/10\n",
            "\u001b[1m1500/1500\u001b[0m \u001b[32m━━━━━━━━━━━━━━━━━━━━\u001b[0m\u001b[37m\u001b[0m \u001b[1m8s\u001b[0m 3ms/step - accuracy: 0.9660 - loss: 0.1157 - val_accuracy: 0.9680 - val_loss: 0.1046\n",
            "Epoch 3/10\n",
            "\u001b[1m1500/1500\u001b[0m \u001b[32m━━━━━━━━━━━━━━━━━━━━\u001b[0m\u001b[37m\u001b[0m \u001b[1m12s\u001b[0m 8ms/step - accuracy: 0.9755 - loss: 0.0776 - val_accuracy: 0.9722 - val_loss: 0.0973\n",
            "Epoch 4/10\n",
            "\u001b[1m1500/1500\u001b[0m \u001b[32m━━━━━━━━━━━━━━━━━━━━\u001b[0m\u001b[37m\u001b[0m \u001b[1m13s\u001b[0m 3ms/step - accuracy: 0.9829 - loss: 0.0544 - val_accuracy: 0.9722 - val_loss: 0.0929\n",
            "Epoch 5/10\n",
            "\u001b[1m1500/1500\u001b[0m \u001b[32m━━━━━━━━━━━━━━━━━━━━\u001b[0m\u001b[37m\u001b[0m \u001b[1m7s\u001b[0m 5ms/step - accuracy: 0.9874 - loss: 0.0401 - val_accuracy: 0.9742 - val_loss: 0.0950\n",
            "Epoch 6/10\n",
            "\u001b[1m1500/1500\u001b[0m \u001b[32m━━━━━━━━━━━━━━━━━━━━\u001b[0m\u001b[37m\u001b[0m \u001b[1m5s\u001b[0m 3ms/step - accuracy: 0.9890 - loss: 0.0338 - val_accuracy: 0.9743 - val_loss: 0.0965\n",
            "Epoch 7/10\n",
            "\u001b[1m1500/1500\u001b[0m \u001b[32m━━━━━━━━━━━━━━━━━━━━\u001b[0m\u001b[37m\u001b[0m \u001b[1m5s\u001b[0m 3ms/step - accuracy: 0.9905 - loss: 0.0284 - val_accuracy: 0.9746 - val_loss: 0.1003\n",
            "Epoch 8/10\n",
            "\u001b[1m1500/1500\u001b[0m \u001b[32m━━━━━━━━━━━━━━━━━━━━\u001b[0m\u001b[37m\u001b[0m \u001b[1m6s\u001b[0m 4ms/step - accuracy: 0.9933 - loss: 0.0209 - val_accuracy: 0.9717 - val_loss: 0.1185\n",
            "Epoch 9/10\n",
            "\u001b[1m1500/1500\u001b[0m \u001b[32m━━━━━━━━━━━━━━━━━━━━\u001b[0m\u001b[37m\u001b[0m \u001b[1m10s\u001b[0m 4ms/step - accuracy: 0.9930 - loss: 0.0200 - val_accuracy: 0.9761 - val_loss: 0.1007\n",
            "Epoch 10/10\n",
            "\u001b[1m1500/1500\u001b[0m \u001b[32m━━━━━━━━━━━━━━━━━━━━\u001b[0m\u001b[37m\u001b[0m \u001b[1m9s\u001b[0m 3ms/step - accuracy: 0.9954 - loss: 0.0153 - val_accuracy: 0.9712 - val_loss: 0.1277\n"
          ]
        }
      ]
    },
    {
      "cell_type": "markdown",
      "source": [
        "Evaluasi Model"
      ],
      "metadata": {
        "id": "NZi03POhP9OY"
      }
    },
    {
      "cell_type": "code",
      "source": [
        "# Evaluasi model pada data uji\n",
        "test_loss, test_accuracy = model.evaluate(X_test, y_test)\n",
        "print(f'Akurasi pada data uji: {test_accuracy * 100:.2f}%')\n",
        "\n",
        "# Prediksi hasil pada data uji\n",
        "y_pred = model.predict(X_test)\n",
        "y_pred_classes = np.argmax(y_pred, axis=1)\n",
        "y_true = np.argmax(y_test, axis=1)\n",
        "\n",
        "# Confusion matrix\n",
        "cm = confusion_matrix(y_true, y_pred_classes)\n",
        "\n",
        "# Plot confusion matrix\n",
        "plt.figure(figsize=(10, 7))\n",
        "sns.heatmap(cm, annot=True, fmt='d', cmap='Blues', cbar=False)\n",
        "plt.xlabel('Predicted')\n",
        "plt.ylabel('True')\n",
        "plt.show()"
      ],
      "metadata": {
        "colab": {
          "base_uri": "https://localhost:8080/",
          "height": 692
        },
        "id": "CYyP5cTNP_Uv",
        "outputId": "bd9adb0a-6df9-4cc8-d37c-4a853b8158b8"
      },
      "execution_count": 5,
      "outputs": [
        {
          "output_type": "stream",
          "name": "stdout",
          "text": [
            "\u001b[1m313/313\u001b[0m \u001b[32m━━━━━━━━━━━━━━━━━━━━\u001b[0m\u001b[37m\u001b[0m \u001b[1m1s\u001b[0m 1ms/step - accuracy: 0.9687 - loss: 0.1333\n",
            "Akurasi pada data uji: 97.27%\n",
            "\u001b[1m313/313\u001b[0m \u001b[32m━━━━━━━━━━━━━━━━━━━━\u001b[0m\u001b[37m\u001b[0m \u001b[1m1s\u001b[0m 2ms/step\n"
          ]
        },
        {
          "output_type": "display_data",
          "data": {
            "text/plain": [
              "<Figure size 1000x700 with 1 Axes>"
            ],
            "image/png": "[encoded data removed]"
          },
          "metadata": {}
        }
      ]
    },
    {
      "cell_type": "markdown",
      "source": [
        "\n",
        "Penjelasan :\n",
        "\n",
        "- Akurasi\n",
        "\n",
        "  - Model mencapai akurasi sekitar 97.82% setelah 10 epoch pelatihan. Akurasi ini menunjukkan bahwa model sangat mampu memprediksi dengan baik digit-digit pada data MNIST.\n",
        "\n",
        "- Confusion Matrix\n",
        "\n",
        "  - Pada digit MNIST, kesalahan paling sering terjadi pada angka yang memiliki kemiripan dalam bentuk, seperti antara angka \"5\" dan \"3\", atau \"4\" dan \"9\".\n",
        "\n",
        "- Konfigurasi Model\n",
        "\n",
        "  - Pra-pengolahan: Normalisasi piksel gambar dan one-hot encoding label.\n",
        "  - Arsitektur ANN:\n",
        "      - Input: Gambar yang diratakan menjadi vektor 784 elemen.\n",
        "      - Hidden Layer 1: 128 neuron dengan ReLU.\n",
        "      - Hidden Layer 2: 64 neuron dengan ReLU.\n",
        "      - Output Layer: 10 neuron dengan softmax.\n",
        "  - Optimizer: Adam.\n",
        "  - Loss Function: Categorical Crossentropy.\n",
        "  - Epochs: 10.\n",
        "\n"
      ],
      "metadata": {
        "id": "vzO4IZfXQW_I"
      }
    }
  ]
}