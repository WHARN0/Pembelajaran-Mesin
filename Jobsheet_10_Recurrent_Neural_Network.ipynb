{
  "nbformat": 4,
  "nbformat_minor": 0,
  "metadata": {
    "colab": {
      "provenance": [],
      "gpuType": "V28",
      "authorship_tag": "ABX9TyP76m0COiTOX0O6al6I3gNv",
      "include_colab_link": true
    },
    "kernelspec": {
      "name": "python3",
      "display_name": "Python 3"
    },
    "language_info": {
      "name": "python"
    },
    "accelerator": "TPU"
  },
  "cells": [
    {
      "cell_type": "markdown",
      "metadata": {
        "id": "view-in-github",
        "colab_type": "text"
      },
      "source": [
        "<a href=\"https://colab.research.google.com/github/WHARN0/Pembelajaran-Mesin/blob/main/Jobsheet_10_Recurrent_Neural_Network.ipynb\" target=\"_parent\"><img src=\"https://colab.research.google.com/assets/colab-badge.svg\" alt=\"Open In Colab\"/></a>"
      ]
    },
    {
      "cell_type": "markdown",
      "source": [
        "# **Praktikum 1**\n",
        "\n",
        "## **RNN untuk Analisis Sentimen**"
      ],
      "metadata": {
        "id": "BqG5BcbZ2jPG"
      }
    },
    {
      "cell_type": "markdown",
      "source": [
        "### **Setup**"
      ],
      "metadata": {
        "id": "bA564cvU2j6a"
      }
    },
    {
      "cell_type": "code",
      "source": [
        "import numpy as np\n",
        "import tensorflow_datasets as tfds\n",
        "import tensorflow as tf\n",
        "\n",
        "tfds.disable_progress_bar()"
      ],
      "metadata": {
        "id": "GXMND9En35Vu"
      },
      "execution_count": 1,
      "outputs": []
    },
    {
      "cell_type": "code",
      "source": [
        "import matplotlib.pyplot as plt\n",
        "\n",
        "def plot_graphs(history, metric):\n",
        " plt.plot(history.history[metric])\n",
        " plt.plot(history.history['val_'+metric], '')\n",
        " plt.xlabel(\"Epochs\")\n",
        " plt.ylabel(metric)\n",
        " plt.legend([metric, 'val_'+metric])"
      ],
      "metadata": {
        "id": "IKrCEPDe3-AM"
      },
      "execution_count": 2,
      "outputs": []
    },
    {
      "cell_type": "markdown",
      "source": [
        "### **Setup input pipeline**"
      ],
      "metadata": {
        "id": "palkwETg2kQq"
      }
    },
    {
      "cell_type": "code",
      "source": [
        "dataset, info = tfds.load('imdb_reviews', with_info=True,\n",
        "                          as_supervised=True)\n",
        "train_dataset, test_dataset = dataset['train'], dataset['test']\n",
        "\n",
        "train_dataset.element_spec"
      ],
      "metadata": {
        "colab": {
          "base_uri": "https://localhost:8080/"
        },
        "id": "iYmz59r14Axo",
        "outputId": "175795ad-c92c-43c9-c423-eb4052840ba5"
      },
      "execution_count": 3,
      "outputs": [
        {
          "output_type": "stream",
          "name": "stdout",
          "text": [
            "Downloading and preparing dataset 80.23 MiB (download: 80.23 MiB, generated: Unknown size, total: 80.23 MiB) to /root/tensorflow_datasets/imdb_reviews/plain_text/1.0.0...\n",
            "Dataset imdb_reviews downloaded and prepared to /root/tensorflow_datasets/imdb_reviews/plain_text/1.0.0. Subsequent calls will reuse this data.\n"
          ]
        },
        {
          "output_type": "execute_result",
          "data": {
            "text/plain": [
              "(TensorSpec(shape=(), dtype=tf.string, name=None),\n",
              " TensorSpec(shape=(), dtype=tf.int64, name=None))"
            ]
          },
          "metadata": {},
          "execution_count": 3
        }
      ]
    },
    {
      "cell_type": "code",
      "source": [
        "for example, label in train_dataset.take(1):\n",
        "  print('text: ', example.numpy())\n",
        "  print('label: ', label.numpy())"
      ],
      "metadata": {
        "colab": {
          "base_uri": "https://localhost:8080/"
        },
        "id": "o974l0L34GDo",
        "outputId": "46d5b48e-e4c2-4c06-92f9-8c5bb47685c2"
      },
      "execution_count": 4,
      "outputs": [
        {
          "output_type": "stream",
          "name": "stdout",
          "text": [
            "text:  b\"This was an absolutely terrible movie. Don't be lured in by Christopher Walken or Michael Ironside. Both are great actors, but this must simply be their worst role in history. Even their great acting could not redeem this movie's ridiculous storyline. This movie is an early nineties US propaganda piece. The most pathetic scenes were those when the Columbian rebels were making their cases for revolutions. Maria Conchita Alonso appeared phony, and her pseudo-love affair with Walken was nothing but a pathetic emotional plug in a movie that was devoid of any real meaning. I am disappointed that there are movies like this, ruining actor's like Christopher Walken's good name. I could barely sit through it.\"\n",
            "label:  0\n"
          ]
        }
      ]
    },
    {
      "cell_type": "code",
      "source": [
        "BUFFER_SIZE = 10000\n",
        "BATCH_SIZE = 64\n",
        "\n",
        "train_dataset = train_dataset.shuffle(BUFFER_SIZE).batch(BATCH_SIZE).prefetch(tf.data.AUTOTUNE)\n",
        "test_dataset = test_dataset.batch(BATCH_SIZE).prefetch(tf.data.AUTOTUNE)\n",
        "\n",
        "for example, label in train_dataset.take(1):\n",
        "  print('texts: ', example.numpy()[:3])\n",
        "  print()\n",
        "  print('labels: ', label.numpy()[:3])\n"
      ],
      "metadata": {
        "colab": {
          "base_uri": "https://localhost:8080/"
        },
        "id": "Hoyqu-Qg4I-e",
        "outputId": "aa7f0d7e-5fd9-4c4a-8cc2-bba842a9784e"
      },
      "execution_count": 5,
      "outputs": [
        {
          "output_type": "stream",
          "name": "stdout",
          "text": [
            "texts:  [b\"In spite of the great future-design touches, the clever Asimov premise, and Will Smith's dependable cool performance, this movie doesn't live up to expectations. The clich\\xc3\\xa9s come thick and fast; (waking from a recurring nightmare, maverick cop has his badge revoked by hardass lieutenant, to list more would be spoiling it - you can see the end a mile off). This movie is also stagebound - you never feel that you have travelled anywhere; what's supposed to be a global disaster never leaves an obviously CGI Chicago. The robots themselves are good in closeup, but the 'crowd' scenes look more like bad Disney -the CGI is overdone again and again. And if you can destroy the robots by smashing them, why do they need to inject 'nanites'? You know it's a duff movie when stupid questions like that start to bother you before the climax. It could have been great, but it's less than the sum of its parts, mainly due to the utterly predictable plot that could have come from any action film of the last forty years.\"\n",
            " b\"I won't give anything away by describing the plot of this film other than to say that it begins with the return to Israel of a young blind woman whose closest friend and companion has just committed suicide. It unfolds like a detective story as the blind woman tries to figure out why her friend ended her life. As she pursues her investigation and the information accumulates, it leads inexorably to a devastating conclusion. The film is expertly paced and the acting, especially by Talia Sharon as Ya'ara, the blind woman, is excellent. Israeli film has definitely come of age and is now fully competitive with other foreign films, though few have found a large audience in the U.S.\"\n",
            " b'I\\'ve really enjoyed this adaptation of \"Emma\".I have seen it many times and am always looking forward to seeing it again.Though it only lasts 107 minutes, most of the novel plot and sub-plots were developed in a satisfactory way. All the characters are well-portrayed. Most of the dialogues come directly from the novel with no silly jokes added as in Emma Thompson\\'s Sense and Sensibility.<br /><br />As a foreigner, I particularly appreciate the perfect diction of the actors. The setting and costumes were beautiful. I find this version quite on a par with the 1995 miniseries \"Pride and Prejudice\" but then the producer and screenwriter were the same. Kate Beckinsale did a really good job portraying \"Emma\" of whom Jane Austen said she would create a heroin no-one but her would love. She is snobbish but has just enough youth and inexperience to be still likable. Mark Strong was also very good at portraying Mr Knightley, not an easy part, I think, though he has not the charisma shown by Colin Firth\\'s Mr Darcy in Pride and Prejudice. Even the end scene (the harvest festival) which does not happen in the novel provides a fitting end except for when it shows Emma being cold and almost unpleasant with Frank Churchill whereas in the novel she was thoroughly reconciled with him, even telling him that she would have enjoyed the duplicity, had she been in his situation. A strange departure from the faithfulness otherwise shown throughout the film. I find the costumes more beautiful and elaborate than in other adaptations from Jane Austen\\'s novels.']\n",
            "\n",
            "labels:  [0 1 1]\n"
          ]
        }
      ]
    },
    {
      "cell_type": "markdown",
      "source": [
        "### **Buat Teks Encoder**"
      ],
      "metadata": {
        "id": "c5xqcFdW2kZb"
      }
    },
    {
      "cell_type": "code",
      "source": [
        "VOCAB_SIZE = 1000\n",
        "encoder = tf.keras.layers.TextVectorization(\n",
        "    max_tokens=VOCAB_SIZE)\n",
        "encoder.adapt(train_dataset.map(lambda text, label: text))"
      ],
      "metadata": {
        "id": "-J0mWUeD4XqO"
      },
      "execution_count": 6,
      "outputs": []
    },
    {
      "cell_type": "code",
      "source": [
        "vocab=np.array(encoder.get_vocabulary())\n",
        "vocab[:20]"
      ],
      "metadata": {
        "colab": {
          "base_uri": "https://localhost:8080/"
        },
        "id": "3XCK3D3d4aQv",
        "outputId": "5e1a2e75-4e7e-46e8-be2e-dbb17c0f4769"
      },
      "execution_count": 7,
      "outputs": [
        {
          "output_type": "execute_result",
          "data": {
            "text/plain": [
              "array(['', '[UNK]', 'the', 'and', 'a', 'of', 'to', 'is', 'in', 'it', 'i',\n",
              "       'this', 'that', 'br', 'was', 'as', 'for', 'with', 'movie', 'but'],\n",
              "      dtype='<U14')"
            ]
          },
          "metadata": {},
          "execution_count": 7
        }
      ]
    },
    {
      "cell_type": "code",
      "source": [
        "encoded_example=encoder(example)[:3].numpy()\n",
        "encoded_example"
      ],
      "metadata": {
        "colab": {
          "base_uri": "https://localhost:8080/"
        },
        "id": "Y_grvVaq4aYx",
        "outputId": "6816dae1-16b9-45d6-95de-df0696c2f510"
      },
      "execution_count": 8,
      "outputs": [
        {
          "output_type": "execute_result",
          "data": {
            "text/plain": [
              "array([[  8,   1,   5, ...,   0,   0,   0],\n",
              "       [ 10, 469, 192, ...,   0,   0,   0],\n",
              "       [195,  63, 492, ...,   0,   0,   0]])"
            ]
          },
          "metadata": {},
          "execution_count": 8
        }
      ]
    },
    {
      "cell_type": "code",
      "source": [
        "for n in range(3):\n",
        "  print(\"Original: \", example[n].numpy())\n",
        "  print(\"Round-trip: \", \" \".join(vocab[encoded_example[n]]))\n",
        "  print()"
      ],
      "metadata": {
        "colab": {
          "base_uri": "https://localhost:8080/"
        },
        "id": "IAczxwuG4ecA",
        "outputId": "d3d517c7-ac16-4926-a594-bd154cd12759"
      },
      "execution_count": 9,
      "outputs": [
        {
          "output_type": "stream",
          "name": "stdout",
          "text": [
            "Original:  b\"In spite of the great future-design touches, the clever Asimov premise, and Will Smith's dependable cool performance, this movie doesn't live up to expectations. The clich\\xc3\\xa9s come thick and fast; (waking from a recurring nightmare, maverick cop has his badge revoked by hardass lieutenant, to list more would be spoiling it - you can see the end a mile off). This movie is also stagebound - you never feel that you have travelled anywhere; what's supposed to be a global disaster never leaves an obviously CGI Chicago. The robots themselves are good in closeup, but the 'crowd' scenes look more like bad Disney -the CGI is overdone again and again. And if you can destroy the robots by smashing them, why do they need to inject 'nanites'? You know it's a duff movie when stupid questions like that start to bother you before the climax. It could have been great, but it's less than the sum of its parts, mainly due to the utterly predictable plot that could have come from any action film of the last forty years.\"\n",
            "Round-trip:  in [UNK] of the great [UNK] [UNK] the [UNK] [UNK] premise and will [UNK] [UNK] cool performance this movie doesnt live up to [UNK] the [UNK] come [UNK] and fast [UNK] from a [UNK] [UNK] [UNK] [UNK] has his [UNK] [UNK] by [UNK] [UNK] to [UNK] more would be [UNK] it you can see the end a [UNK] off this movie is also [UNK] you never feel that you have [UNK] [UNK] whats supposed to be a [UNK] [UNK] never leaves an obviously [UNK] [UNK] the [UNK] themselves are good in [UNK] but the [UNK] scenes look more like bad disney the [UNK] is [UNK] again and again and if you can [UNK] the [UNK] by [UNK] them why do they need to [UNK] [UNK] you know its a [UNK] movie when stupid [UNK] like that start to [UNK] you before the [UNK] it could have been great but its less than the [UNK] of its parts [UNK] due to the [UNK] predictable plot that could have come from any action film of the last [UNK] years                                                                                                                                                                                                                                                                                                                                                                                                        \n",
            "\n",
            "Original:  b\"I won't give anything away by describing the plot of this film other than to say that it begins with the return to Israel of a young blind woman whose closest friend and companion has just committed suicide. It unfolds like a detective story as the blind woman tries to figure out why her friend ended her life. As she pursues her investigation and the information accumulates, it leads inexorably to a devastating conclusion. The film is expertly paced and the acting, especially by Talia Sharon as Ya'ara, the blind woman, is excellent. Israeli film has definitely come of age and is now fully competitive with other foreign films, though few have found a large audience in the U.S.\"\n",
            "Round-trip:  i wont give anything away by [UNK] the plot of this film other than to say that it begins with the return to [UNK] of a young [UNK] woman whose [UNK] friend and [UNK] has just [UNK] [UNK] it [UNK] like a [UNK] story as the [UNK] woman tries to figure out why her friend [UNK] her life as she [UNK] her [UNK] and the [UNK] [UNK] it leads [UNK] to a [UNK] [UNK] the film is [UNK] [UNK] and the acting especially by [UNK] [UNK] as [UNK] the [UNK] woman is excellent [UNK] film has definitely come of age and is now [UNK] [UNK] with other [UNK] films though few have found a [UNK] audience in the us                                                                                                                                                                                                                                                                                                                                                                                                                                                                  \n",
            "\n",
            "Original:  b'I\\'ve really enjoyed this adaptation of \"Emma\".I have seen it many times and am always looking forward to seeing it again.Though it only lasts 107 minutes, most of the novel plot and sub-plots were developed in a satisfactory way. All the characters are well-portrayed. Most of the dialogues come directly from the novel with no silly jokes added as in Emma Thompson\\'s Sense and Sensibility.<br /><br />As a foreigner, I particularly appreciate the perfect diction of the actors. The setting and costumes were beautiful. I find this version quite on a par with the 1995 miniseries \"Pride and Prejudice\" but then the producer and screenwriter were the same. Kate Beckinsale did a really good job portraying \"Emma\" of whom Jane Austen said she would create a heroin no-one but her would love. She is snobbish but has just enough youth and inexperience to be still likable. Mark Strong was also very good at portraying Mr Knightley, not an easy part, I think, though he has not the charisma shown by Colin Firth\\'s Mr Darcy in Pride and Prejudice. Even the end scene (the harvest festival) which does not happen in the novel provides a fitting end except for when it shows Emma being cold and almost unpleasant with Frank Churchill whereas in the novel she was thoroughly reconciled with him, even telling him that she would have enjoyed the duplicity, had she been in his situation. A strange departure from the faithfulness otherwise shown throughout the film. I find the costumes more beautiful and elaborate than in other adaptations from Jane Austen\\'s novels.'\n",
            "Round-trip:  ive really enjoyed this [UNK] of [UNK] have seen it many times and am always looking forward to seeing it [UNK] it only [UNK] [UNK] minutes most of the novel plot and [UNK] were [UNK] in a [UNK] way all the characters are [UNK] most of the [UNK] come [UNK] from the novel with no silly jokes [UNK] as in [UNK] [UNK] sense and [UNK] br as a [UNK] i particularly [UNK] the perfect [UNK] of the actors the setting and [UNK] were beautiful i find this version quite on a [UNK] with the [UNK] [UNK] [UNK] and [UNK] but then the [UNK] and [UNK] were the same [UNK] [UNK] did a really good job [UNK] [UNK] of whom jane [UNK] said she would create a [UNK] [UNK] but her would love she is [UNK] but has just enough [UNK] and [UNK] to be still [UNK] mark strong was also very good at [UNK] mr [UNK] not an easy part i think though he has not the [UNK] shown by [UNK] [UNK] mr [UNK] in [UNK] and [UNK] even the end scene the [UNK] [UNK] which does not happen in the novel [UNK] a [UNK] end except for when it shows [UNK] being [UNK] and almost [UNK] with [UNK] [UNK] [UNK] in the novel she was [UNK] [UNK] with him even [UNK] him that she would have enjoyed the [UNK] had she been in his situation a strange [UNK] from the [UNK] otherwise shown throughout the film i find the [UNK] more beautiful and [UNK] than in other [UNK] from jane [UNK] [UNK]                                                                                                                                                                                                                                                                                                                  \n",
            "\n"
          ]
        }
      ]
    },
    {
      "cell_type": "markdown",
      "source": [
        "### **Buat Model**"
      ],
      "metadata": {
        "id": "Syt48DYQ2kf-"
      }
    },
    {
      "cell_type": "code",
      "source": [
        "model = tf.keras.Sequential([\n",
        "    encoder,\n",
        "    tf.keras.layers.Embedding(\n",
        "        input_dim=len(encoder.get_vocabulary()),\n",
        "        output_dim=64,\n",
        "        # Use masking to handle the variable sequence lengths\n",
        "        mask_zero=True),\n",
        "    tf.keras.layers.Bidirectional(tf.keras.layers.LSTM(64)),\n",
        "    tf.keras.layers.Dense(64, activation='relu'),\n",
        "    tf.keras.layers.Dense(1)\n",
        "])"
      ],
      "metadata": {
        "id": "MtmDa7we4k6i"
      },
      "execution_count": 10,
      "outputs": []
    },
    {
      "cell_type": "code",
      "source": [
        "print([layer.supports_masking for layer in model.layers])"
      ],
      "metadata": {
        "colab": {
          "base_uri": "https://localhost:8080/"
        },
        "id": "P8KOc5BZ4nhS",
        "outputId": "ea3f8376-0665-4aa5-e722-8abd1d1a6a3d"
      },
      "execution_count": 11,
      "outputs": [
        {
          "output_type": "stream",
          "name": "stdout",
          "text": [
            "[False, True, True, True, True]\n"
          ]
        }
      ]
    },
    {
      "cell_type": "code",
      "source": [
        "# predict on a sample text without padding.\n",
        "\n",
        "sample_text = ('The movie was cool. The animation and the graphics '\n",
        "               'were out of this world. I would recommend this movie.')\n",
        "predictions = model.predict(np.array([sample_text]))\n",
        "print(predictions[0])"
      ],
      "metadata": {
        "colab": {
          "base_uri": "https://localhost:8080/"
        },
        "id": "rXy7hVir4q26",
        "outputId": "63e4a9f1-b7fd-425f-ad6f-4a76e665a2e9"
      },
      "execution_count": 12,
      "outputs": [
        {
          "output_type": "stream",
          "name": "stdout",
          "text": [
            "1/1 [==============================] - 2s 2s/step\n",
            "[0.00090929]\n"
          ]
        }
      ]
    },
    {
      "cell_type": "code",
      "source": [
        "# predict on a sample text with padding\n",
        "\n",
        "padding = \"the \" * 2000\n",
        "predictions = model.predict(np.array([sample_text, padding]))\n",
        "print(predictions[0])"
      ],
      "metadata": {
        "colab": {
          "base_uri": "https://localhost:8080/"
        },
        "id": "mLTju7mu4wl8",
        "outputId": "e44a6ce4-9672-4014-9412-0b3902635053"
      },
      "execution_count": 13,
      "outputs": [
        {
          "output_type": "stream",
          "name": "stdout",
          "text": [
            "1/1 [==============================] - 0s 195ms/step\n",
            "[0.00090929]\n"
          ]
        }
      ]
    },
    {
      "cell_type": "code",
      "source": [
        "model.compile(loss=tf.keras.losses.BinaryCrossentropy(from_logits=True),\n",
        "              optimizer=tf.keras.optimizers.Adam(1e-4),\n",
        "              metrics=['accuracy'])"
      ],
      "metadata": {
        "id": "5xJYS88A4yuH"
      },
      "execution_count": 14,
      "outputs": []
    },
    {
      "cell_type": "markdown",
      "source": [
        "### **Train Model**"
      ],
      "metadata": {
        "id": "SUrDPqQA212L"
      }
    },
    {
      "cell_type": "code",
      "source": [
        "history = model.fit(train_dataset, epochs=10,\n",
        "validation_data=test_dataset,\n",
        "validation_steps=30)"
      ],
      "metadata": {
        "colab": {
          "base_uri": "https://localhost:8080/"
        },
        "id": "7bVhGNXU40TT",
        "outputId": "31efe1b7-9884-440a-8447-f74485a7ff51"
      },
      "execution_count": 16,
      "outputs": [
        {
          "output_type": "stream",
          "name": "stdout",
          "text": [
            "Epoch 1/10\n",
            "391/391 [==============================] - 227s 563ms/step - loss: 0.6559 - accuracy: 0.5543 - val_loss: 0.5443 - val_accuracy: 0.7172\n",
            "Epoch 2/10\n",
            "391/391 [==============================] - 220s 562ms/step - loss: 0.5665 - accuracy: 0.7404 - val_loss: 0.5896 - val_accuracy: 0.7510\n",
            "Epoch 3/10\n",
            "391/391 [==============================] - 219s 559ms/step - loss: 0.4769 - accuracy: 0.7960 - val_loss: 0.4137 - val_accuracy: 0.8120\n",
            "Epoch 4/10\n",
            "391/391 [==============================] - 218s 558ms/step - loss: 0.3780 - accuracy: 0.8309 - val_loss: 0.3678 - val_accuracy: 0.8302\n",
            "Epoch 5/10\n",
            "391/391 [==============================] - 218s 557ms/step - loss: 0.3461 - accuracy: 0.8470 - val_loss: 0.3492 - val_accuracy: 0.8391\n",
            "Epoch 6/10\n",
            "391/391 [==============================] - 216s 552ms/step - loss: 0.3292 - accuracy: 0.8558 - val_loss: 0.3393 - val_accuracy: 0.8453\n",
            "Epoch 7/10\n",
            "391/391 [==============================] - 220s 563ms/step - loss: 0.3186 - accuracy: 0.8613 - val_loss: 0.3312 - val_accuracy: 0.8542\n",
            "Epoch 8/10\n",
            "391/391 [==============================] - 217s 555ms/step - loss: 0.3107 - accuracy: 0.8641 - val_loss: 0.3256 - val_accuracy: 0.8578\n",
            "Epoch 9/10\n",
            "391/391 [==============================] - 216s 553ms/step - loss: 0.3062 - accuracy: 0.8682 - val_loss: 0.3250 - val_accuracy: 0.8599\n",
            "Epoch 10/10\n",
            "391/391 [==============================] - 214s 546ms/step - loss: 0.3018 - accuracy: 0.8707 - val_loss: 0.3270 - val_accuracy: 0.8599\n"
          ]
        }
      ]
    },
    {
      "cell_type": "code",
      "source": [
        "test_loss, test_acc = model.evaluate(test_dataset)\n",
        "\n",
        "print('Test Loss:', test_loss)\n",
        "print('Test Accuracy:', test_acc)"
      ],
      "metadata": {
        "colab": {
          "base_uri": "https://localhost:8080/"
        },
        "id": "hdP0OjO7492o",
        "outputId": "28c1169b-13a4-4d26-df48-1faa47a82b96"
      },
      "execution_count": 17,
      "outputs": [
        {
          "output_type": "stream",
          "name": "stdout",
          "text": [
            "391/391 [==============================] - 64s 164ms/step - loss: 0.3221 - accuracy: 0.8649\n",
            "Test Loss: 0.32213470339775085\n",
            "Test Accuracy: 0.8648800253868103\n"
          ]
        }
      ]
    },
    {
      "cell_type": "code",
      "source": [
        "plt.figure(figsize=(16, 8))\n",
        "plt.subplot(1, 2, 1)\n",
        "plot_graphs(history, 'accuracy')\n",
        "plt.ylim(None, 1)\n",
        "plt.subplot(1, 2, 2)\n",
        "plot_graphs(history, 'loss')\n",
        "plt.ylim(0, None)"
      ],
      "metadata": {
        "colab": {
          "base_uri": "https://localhost:8080/",
          "height": 739
        },
        "id": "mqP55ZgB4-6V",
        "outputId": "830f4ee8-49a5-4cdb-a3d6-eb2860ce14ac"
      },
      "execution_count": 18,
      "outputs": [
        {
          "output_type": "execute_result",
          "data": {
            "text/plain": [
              "(0.0, 0.6736382186412812)"
            ]
          },
          "metadata": {},
          "execution_count": 18
        },
        {
          "output_type": "display_data",
          "data": {
            "text/plain": [
              "<Figure size 1600x800 with 2 Axes>"
            ],
            "image/png": "[encoded data removed]"
          },
          "metadata": {}
        }
      ]
    },
    {
      "cell_type": "code",
      "source": [
        "sample_text = ('The movie was cool. The animation and the graphics '\n",
        "'were out of this world. I would recommend this movie.')\n",
        "predictions = model.predict(np.array([sample_text]))"
      ],
      "metadata": {
        "colab": {
          "base_uri": "https://localhost:8080/"
        },
        "id": "BH-aO4mO5Beq",
        "outputId": "66e4d058-af01-4b37-cf33-36ab476453f2"
      },
      "execution_count": 19,
      "outputs": [
        {
          "output_type": "stream",
          "name": "stdout",
          "text": [
            "1/1 [==============================] - 2s 2s/step\n"
          ]
        }
      ]
    },
    {
      "cell_type": "markdown",
      "source": [
        "### **Stack two or more LSTM layers**"
      ],
      "metadata": {
        "id": "naeyZEG925rc"
      }
    },
    {
      "cell_type": "code",
      "source": [
        "model = tf.keras.Sequential([\n",
        " encoder,\n",
        " tf.keras.layers.Embedding(len(encoder.get_vocabulary()), 64, mask_zero=True),\n",
        " tf.keras.layers.Bidirectional(tf.keras.layers.LSTM(64, return_sequences=True)),\n",
        " tf.keras.layers.Bidirectional(tf.keras.layers.LSTM(32)),\n",
        " tf.keras.layers.Dense(64, activation='relu'),\n",
        " tf.keras.layers.Dropout(0.5),\n",
        " tf.keras.layers.Dense(1)\n",
        "])"
      ],
      "metadata": {
        "id": "KDTyV5Rv5E8O"
      },
      "execution_count": 20,
      "outputs": []
    },
    {
      "cell_type": "code",
      "source": [
        "model.compile(loss=tf.keras.losses.BinaryCrossentropy(from_logits=True),\n",
        " optimizer=tf.keras.optimizers.Adam(1e-4),\n",
        " metrics=['accuracy'])"
      ],
      "metadata": {
        "id": "63rKkz-e5J2H"
      },
      "execution_count": 21,
      "outputs": []
    },
    {
      "cell_type": "code",
      "source": [
        "history = model.fit(train_dataset, epochs=10,\n",
        " validation_data=test_dataset,\n",
        " validation_steps=30)"
      ],
      "metadata": {
        "colab": {
          "base_uri": "https://localhost:8080/"
        },
        "id": "1GEnxE0R5NG8",
        "outputId": "ef08b86e-ceaa-48a4-824d-dec80feee7de"
      },
      "execution_count": 22,
      "outputs": [
        {
          "output_type": "stream",
          "name": "stdout",
          "text": [
            "Epoch 1/10\n",
            "391/391 [==============================] - 444s 1s/step - loss: 0.6395 - accuracy: 0.5744 - val_loss: 0.4662 - val_accuracy: 0.8031\n",
            "Epoch 2/10\n",
            "391/391 [==============================] - 430s 1s/step - loss: 0.4036 - accuracy: 0.8228 - val_loss: 0.3718 - val_accuracy: 0.8401\n",
            "Epoch 3/10\n",
            "391/391 [==============================] - 423s 1s/step - loss: 0.3451 - accuracy: 0.8531 - val_loss: 0.3491 - val_accuracy: 0.8370\n",
            "Epoch 4/10\n",
            "391/391 [==============================] - 425s 1s/step - loss: 0.3253 - accuracy: 0.8634 - val_loss: 0.3271 - val_accuracy: 0.8562\n",
            "Epoch 5/10\n",
            "391/391 [==============================] - 424s 1s/step - loss: 0.3127 - accuracy: 0.8700 - val_loss: 0.3318 - val_accuracy: 0.8505\n",
            "Epoch 6/10\n",
            "391/391 [==============================] - 420s 1s/step - loss: 0.3101 - accuracy: 0.8687 - val_loss: 0.3340 - val_accuracy: 0.8406\n",
            "Epoch 7/10\n",
            "391/391 [==============================] - 423s 1s/step - loss: 0.3059 - accuracy: 0.8700 - val_loss: 0.3322 - val_accuracy: 0.8365\n",
            "Epoch 8/10\n",
            "391/391 [==============================] - 421s 1s/step - loss: 0.3018 - accuracy: 0.8710 - val_loss: 0.3167 - val_accuracy: 0.8609\n",
            "Epoch 9/10\n",
            "391/391 [==============================] - 418s 1s/step - loss: 0.2964 - accuracy: 0.8741 - val_loss: 0.3182 - val_accuracy: 0.8641\n",
            "Epoch 10/10\n",
            "391/391 [==============================] - 419s 1s/step - loss: 0.2973 - accuracy: 0.8734 - val_loss: 0.3238 - val_accuracy: 0.8490\n"
          ]
        }
      ]
    },
    {
      "cell_type": "code",
      "source": [
        "test_loss, test_acc = model.evaluate(test_dataset)\n",
        "\n",
        "print('Test Loss:', test_loss)\n",
        "print('Test Accuracy:', test_acc)"
      ],
      "metadata": {
        "colab": {
          "base_uri": "https://localhost:8080/"
        },
        "id": "mc-2oMmJ5Qxx",
        "outputId": "f46b976c-6ec1-4f79-e46c-7070ab5d511f"
      },
      "execution_count": 23,
      "outputs": [
        {
          "output_type": "stream",
          "name": "stdout",
          "text": [
            "391/391 [==============================] - 114s 290ms/step - loss: 0.3190 - accuracy: 0.8514\n",
            "Test Loss: 0.3189893364906311\n",
            "Test Accuracy: 0.851360023021698\n"
          ]
        }
      ]
    },
    {
      "cell_type": "code",
      "source": [
        "# predict on a sample text without padding.\n",
        "\n",
        "sample_text = ('The movie was not good. The animation and the graphics '\n",
        "'were terrible. I would not recommend this movie.')\n",
        "predictions = model.predict(np.array([sample_text]))\n",
        "print(predictions)"
      ],
      "metadata": {
        "colab": {
          "base_uri": "https://localhost:8080/"
        },
        "id": "78YFUW0Z5Tfn",
        "outputId": "1fb3805f-2716-4751-e4d8-0d3d70c50c70"
      },
      "execution_count": 24,
      "outputs": [
        {
          "output_type": "stream",
          "name": "stdout",
          "text": [
            "1/1 [==============================] - 6s 6s/step\n",
            "[[-1.9544512]]\n"
          ]
        }
      ]
    },
    {
      "cell_type": "code",
      "source": [
        "plt.figure(figsize=(16, 6))\n",
        "plt.subplot(1, 2, 1)\n",
        "plot_graphs(history, 'accuracy')\n",
        "plt.subplot(1, 2, 2)\n",
        "plot_graphs(history, 'loss')"
      ],
      "metadata": {
        "colab": {
          "base_uri": "https://localhost:8080/",
          "height": 562
        },
        "id": "qu3kHRyP5U6o",
        "outputId": "a015f3b0-b53a-4a16-dc88-5a29e0824e2a"
      },
      "execution_count": 25,
      "outputs": [
        {
          "output_type": "display_data",
          "data": {
            "text/plain": [
              "<Figure size 1600x600 with 2 Axes>"
            ],
            "image/png": "[encoded data removed]"
          },
          "metadata": {}
        }
      ]
    },
    {
      "cell_type": "markdown",
      "source": [
        "# **Praktikum 2**\n",
        "\n",
        "## **Generator Teks dengan RNN**"
      ],
      "metadata": {
        "id": "76FI1A0B29aD"
      }
    },
    {
      "cell_type": "markdown",
      "source": [
        "### **Setup**"
      ],
      "metadata": {
        "id": "sF0B34-Y3fac"
      }
    },
    {
      "cell_type": "markdown",
      "source": [
        "Import TensorFlow"
      ],
      "metadata": {
        "id": "yR0pwefn_v7N"
      }
    },
    {
      "cell_type": "code",
      "source": [
        "import tensorflow as tf\n",
        "import numpy as np\n",
        "import os\n",
        "import time"
      ],
      "metadata": {
        "id": "E_AGIUMr_xM8"
      },
      "execution_count": 26,
      "outputs": []
    },
    {
      "cell_type": "markdown",
      "source": [
        "Download Dataset Shakespeare"
      ],
      "metadata": {
        "id": "I1Bsnjvh_66h"
      }
    },
    {
      "cell_type": "code",
      "source": [
        "path_to_file=tf.keras.utils.get_file('shakespeare.txt','https://storage.googleapis.com/download.tensorflow.org/data/shakespeare.txt')"
      ],
      "metadata": {
        "id": "dXwl0GIN_2V-",
        "colab": {
          "base_uri": "https://localhost:8080/"
        },
        "outputId": "eda8d846-3772-40af-adf7-8747887f2b9f"
      },
      "execution_count": 27,
      "outputs": [
        {
          "output_type": "stream",
          "name": "stdout",
          "text": [
            "Downloading data from https://storage.googleapis.com/download.tensorflow.org/data/shakespeare.txt\n",
            "1115394/1115394 [==============================] - 0s 0us/step\n"
          ]
        }
      ]
    },
    {
      "cell_type": "markdown",
      "source": [
        "Load Data"
      ],
      "metadata": {
        "id": "CvwyL9s-AEdE"
      }
    },
    {
      "cell_type": "code",
      "source": [
        "# Read, then decode for py2 compat.\n",
        "text = open(path_to_file, 'rb').read().decode(encoding='utf-8')\n",
        "# length of text is the number of characters in it\n",
        "print(f'Length of text: {len(text)} characters')"
      ],
      "metadata": {
        "colab": {
          "base_uri": "https://localhost:8080/"
        },
        "id": "-OYjibOmAE7o",
        "outputId": "a92f6a80-07fe-4e69-d6c1-09b028229880"
      },
      "execution_count": 28,
      "outputs": [
        {
          "output_type": "stream",
          "name": "stdout",
          "text": [
            "Length of text: 1115394 characters\n"
          ]
        }
      ]
    },
    {
      "cell_type": "code",
      "source": [
        "# Take a look at the first 250 characters in text\n",
        "print(text[:250])"
      ],
      "metadata": {
        "colab": {
          "base_uri": "https://localhost:8080/"
        },
        "id": "s_QYXNDlAGP8",
        "outputId": "15b70a65-a66d-40b7-d8f9-2a8f42cd672b"
      },
      "execution_count": 29,
      "outputs": [
        {
          "output_type": "stream",
          "name": "stdout",
          "text": [
            "First Citizen:\n",
            "Before we proceed any further, hear me speak.\n",
            "\n",
            "All:\n",
            "Speak, speak.\n",
            "\n",
            "First Citizen:\n",
            "You are all resolved rather to die than to famish?\n",
            "\n",
            "All:\n",
            "Resolved. resolved.\n",
            "\n",
            "First Citizen:\n",
            "First, you know Caius Marcius is chief enemy to the people.\n",
            "\n"
          ]
        }
      ]
    },
    {
      "cell_type": "code",
      "source": [
        "# The unique characters in the file\n",
        "vocab = sorted(set(text))\n",
        "print(f'{len(vocab)} unique characters')"
      ],
      "metadata": {
        "colab": {
          "base_uri": "https://localhost:8080/"
        },
        "id": "ZUa67K8JAHje",
        "outputId": "ed940163-740c-46d5-bc31-730cdc46458d"
      },
      "execution_count": 30,
      "outputs": [
        {
          "output_type": "stream",
          "name": "stdout",
          "text": [
            "65 unique characters\n"
          ]
        }
      ]
    },
    {
      "cell_type": "markdown",
      "source": [
        "### **Olah Teks**"
      ],
      "metadata": {
        "id": "WJWJ88r13kX-"
      }
    },
    {
      "cell_type": "markdown",
      "source": [
        "Vectorize Teks"
      ],
      "metadata": {
        "id": "2xCnHgDGAMF_"
      }
    },
    {
      "cell_type": "code",
      "source": [
        "example_texts=['abcdefg','xyz']\n",
        "chars=tf.strings.unicode_split(example_texts,input_encoding='UTF-8')\n",
        "chars"
      ],
      "metadata": {
        "colab": {
          "base_uri": "https://localhost:8080/"
        },
        "id": "TNt3VnWqAMgK",
        "outputId": "68837820-cd87-4b5c-b1c3-51e164fb8dd6"
      },
      "execution_count": 31,
      "outputs": [
        {
          "output_type": "execute_result",
          "data": {
            "text/plain": [
              "<tf.RaggedTensor [[b'a', b'b', b'c', b'd', b'e', b'f', b'g'], [b'x', b'y', b'z']]>"
            ]
          },
          "metadata": {},
          "execution_count": 31
        }
      ]
    },
    {
      "cell_type": "code",
      "source": [
        "ids_from_chars=tf.keras.layers.StringLookup(\n",
        "vocabulary=list(vocab),mask_token=None)"
      ],
      "metadata": {
        "id": "8lzXcDBvAQyX"
      },
      "execution_count": 32,
      "outputs": []
    },
    {
      "cell_type": "code",
      "source": [
        "ids=ids_from_chars(chars)\n",
        "ids"
      ],
      "metadata": {
        "colab": {
          "base_uri": "https://localhost:8080/"
        },
        "id": "kBVECrgoAUA_",
        "outputId": "e46beeb5-8554-474e-feba-2241a13ba4f0"
      },
      "execution_count": 33,
      "outputs": [
        {
          "output_type": "execute_result",
          "data": {
            "text/plain": [
              "<tf.RaggedTensor [[40, 41, 42, 43, 44, 45, 46], [63, 64, 65]]>"
            ]
          },
          "metadata": {},
          "execution_count": 33
        }
      ]
    },
    {
      "cell_type": "code",
      "source": [
        "chars_from_ids = tf.keras.layers.StringLookup(\n",
        "    vocabulary=ids_from_chars.get_vocabulary(), invert=True, mask_token=None)"
      ],
      "metadata": {
        "id": "uD1sjqvGAYoE"
      },
      "execution_count": 34,
      "outputs": []
    },
    {
      "cell_type": "code",
      "source": [
        "chars=chars_from_ids(ids)\n",
        "chars"
      ],
      "metadata": {
        "colab": {
          "base_uri": "https://localhost:8080/"
        },
        "id": "D_84UhWwAZWB",
        "outputId": "c7951258-21f3-4f0e-f5d4-3a1622984c03"
      },
      "execution_count": 35,
      "outputs": [
        {
          "output_type": "execute_result",
          "data": {
            "text/plain": [
              "<tf.RaggedTensor [[b'a', b'b', b'c', b'd', b'e', b'f', b'g'], [b'x', b'y', b'z']]>"
            ]
          },
          "metadata": {},
          "execution_count": 35
        }
      ]
    },
    {
      "cell_type": "code",
      "source": [
        "tf.strings.reduce_join(chars,axis=-1).numpy()"
      ],
      "metadata": {
        "colab": {
          "base_uri": "https://localhost:8080/"
        },
        "id": "Y0RLIrLmAc2u",
        "outputId": "83a9e28a-e1d3-48ca-a616-735fe644f584"
      },
      "execution_count": 36,
      "outputs": [
        {
          "output_type": "execute_result",
          "data": {
            "text/plain": [
              "array([b'abcdefg', b'xyz'], dtype=object)"
            ]
          },
          "metadata": {},
          "execution_count": 36
        }
      ]
    },
    {
      "cell_type": "code",
      "source": [
        "def text_from_ids(ids):\n",
        "    return tf.strings.reduce_join(chars_from_ids(ids), axis=-1)"
      ],
      "metadata": {
        "id": "nWuztbBuAeVa"
      },
      "execution_count": 37,
      "outputs": []
    },
    {
      "cell_type": "markdown",
      "source": [
        "Prediksi\n",
        "\n",
        "Diberikan sebuah karakter, atau serangkaian karakter, karakter apa yang paling mungkin berikutnya? Ini adalah tugas yang harus Anda latih agar model dapat melakukannya. Masukan ke model akan berupa urutan karakter, dan Anda melatih model untuk memprediksi keluaran berupa karakter berikut pada setiap langkah waktu. Karena RNN mempertahankan keadaan internal yang bergantung pada elemen yang terlihat sebelumnya, mengingat semua karakter dihitung hingga saat ini, karakter apa selanjutnya?\n",
        "\n",
        "Membuat Trianing Set dan Target\n",
        "\n",
        "Selanjutnya bagilah teks menjadi contoh sequence. Setiap masukan sequence akan berisi karakter seq_length dari teks. Untuk setiap masukan sequence, target prediksi berisi teks dengan panjang yang sama, hanya digeser satu karakter ke kanan. Jadi, bagi teks menjadi beberapa bagian seq_length+1. Misalnya, seq_length adalah 4 dan teks kita adalah \"Hello\". Urutan masukannya adalah \"Hell\", dan urutan targetnya adalah \"ello\". Untuk melakukan ini, pertama-tama gunakan fungsi tf.data.Dataset.from_tensor_slices untuk mengonversi vektor teks menjadi aliran indeks karakter."
      ],
      "metadata": {
        "id": "JNSaKZD9AsRw"
      }
    },
    {
      "cell_type": "code",
      "source": [
        "all_ids=ids_from_chars(tf.strings.unicode_split(text,'UTF-8'))\n",
        "all_ids"
      ],
      "metadata": {
        "colab": {
          "base_uri": "https://localhost:8080/"
        },
        "id": "XmF6O-NNAs8t",
        "outputId": "43b13807-748f-4bdf-cdc6-e2c68dcde1d4"
      },
      "execution_count": 38,
      "outputs": [
        {
          "output_type": "execute_result",
          "data": {
            "text/plain": [
              "<tf.Tensor: shape=(1115394,), dtype=int64, numpy=array([19, 48, 57, ..., 46,  9,  1])>"
            ]
          },
          "metadata": {},
          "execution_count": 38
        }
      ]
    },
    {
      "cell_type": "code",
      "source": [
        "ids_dataset=tf.data.Dataset.from_tensor_slices(all_ids)"
      ],
      "metadata": {
        "id": "DzvZuLpoCDBX"
      },
      "execution_count": 39,
      "outputs": []
    },
    {
      "cell_type": "code",
      "source": [
        "for ids in ids_dataset.take(10):\n",
        "    print(chars_from_ids(ids).numpy().decode('utf-8'))"
      ],
      "metadata": {
        "colab": {
          "base_uri": "https://localhost:8080/"
        },
        "id": "2e0Tj2KTCIzW",
        "outputId": "98362ab8-47ae-49f6-b21f-d73b46cc2a02"
      },
      "execution_count": 40,
      "outputs": [
        {
          "output_type": "stream",
          "name": "stdout",
          "text": [
            "F\n",
            "i\n",
            "r\n",
            "s\n",
            "t\n",
            " \n",
            "C\n",
            "i\n",
            "t\n",
            "i\n"
          ]
        }
      ]
    },
    {
      "cell_type": "code",
      "source": [
        "seq_length=100"
      ],
      "metadata": {
        "id": "44Q1y0o9MwCP"
      },
      "execution_count": 41,
      "outputs": []
    },
    {
      "cell_type": "code",
      "source": [
        "sequences = ids_dataset.batch(seq_length+1, drop_remainder=True)\n",
        "\n",
        "for seq in sequences.take(1):\n",
        "  print(chars_from_ids(seq))"
      ],
      "metadata": {
        "colab": {
          "base_uri": "https://localhost:8080/"
        },
        "id": "CTEyhxloCPKW",
        "outputId": "f13ffed3-4b50-4015-ee62-ce63f8368a31"
      },
      "execution_count": 42,
      "outputs": [
        {
          "output_type": "stream",
          "name": "stdout",
          "text": [
            "tf.Tensor(\n",
            "[b'F' b'i' b'r' b's' b't' b' ' b'C' b'i' b't' b'i' b'z' b'e' b'n' b':'\n",
            " b'\\n' b'B' b'e' b'f' b'o' b'r' b'e' b' ' b'w' b'e' b' ' b'p' b'r' b'o'\n",
            " b'c' b'e' b'e' b'd' b' ' b'a' b'n' b'y' b' ' b'f' b'u' b'r' b't' b'h'\n",
            " b'e' b'r' b',' b' ' b'h' b'e' b'a' b'r' b' ' b'm' b'e' b' ' b's' b'p'\n",
            " b'e' b'a' b'k' b'.' b'\\n' b'\\n' b'A' b'l' b'l' b':' b'\\n' b'S' b'p' b'e'\n",
            " b'a' b'k' b',' b' ' b's' b'p' b'e' b'a' b'k' b'.' b'\\n' b'\\n' b'F' b'i'\n",
            " b'r' b's' b't' b' ' b'C' b'i' b't' b'i' b'z' b'e' b'n' b':' b'\\n' b'Y'\n",
            " b'o' b'u' b' '], shape=(101,), dtype=string)\n"
          ]
        }
      ]
    },
    {
      "cell_type": "code",
      "source": [
        "for seq in sequences.take(5):\n",
        "    print(text_from_ids(seq).numpy())"
      ],
      "metadata": {
        "colab": {
          "base_uri": "https://localhost:8080/"
        },
        "id": "GpQptCJLCUbM",
        "outputId": "b1ecd60c-07d4-4c00-a32b-5dcffe20053b"
      },
      "execution_count": 43,
      "outputs": [
        {
          "output_type": "stream",
          "name": "stdout",
          "text": [
            "b'First Citizen:\\nBefore we proceed any further, hear me speak.\\n\\nAll:\\nSpeak, speak.\\n\\nFirst Citizen:\\nYou '\n",
            "b'are all resolved rather to die than to famish?\\n\\nAll:\\nResolved. resolved.\\n\\nFirst Citizen:\\nFirst, you k'\n",
            "b\"now Caius Marcius is chief enemy to the people.\\n\\nAll:\\nWe know't, we know't.\\n\\nFirst Citizen:\\nLet us ki\"\n",
            "b\"ll him, and we'll have corn at our own price.\\nIs't a verdict?\\n\\nAll:\\nNo more talking on't; let it be d\"\n",
            "b'one: away, away!\\n\\nSecond Citizen:\\nOne word, good citizens.\\n\\nFirst Citizen:\\nWe are accounted poor citi'\n"
          ]
        }
      ]
    },
    {
      "cell_type": "code",
      "source": [
        "def split_input_target(sequence):\n",
        "  input_text=sequence[:-1]\n",
        "  target_text=sequence[1:]\n",
        "  return input_text,target_text"
      ],
      "metadata": {
        "id": "TaS88_ZlCWNc"
      },
      "execution_count": 44,
      "outputs": []
    },
    {
      "cell_type": "code",
      "source": [
        "split_input_target(list(\"Tensorflow\"))"
      ],
      "metadata": {
        "colab": {
          "base_uri": "https://localhost:8080/"
        },
        "id": "U-ICt-5hCmUz",
        "outputId": "a68167f2-8c2d-4150-fbc5-965206d459fa"
      },
      "execution_count": 45,
      "outputs": [
        {
          "output_type": "execute_result",
          "data": {
            "text/plain": [
              "(['T', 'e', 'n', 's', 'o', 'r', 'f', 'l', 'o'],\n",
              " ['e', 'n', 's', 'o', 'r', 'f', 'l', 'o', 'w'])"
            ]
          },
          "metadata": {},
          "execution_count": 45
        }
      ]
    },
    {
      "cell_type": "code",
      "source": [
        "dataset=sequences.map(split_input_target)"
      ],
      "metadata": {
        "id": "Zno5llLJCoKJ"
      },
      "execution_count": 46,
      "outputs": []
    },
    {
      "cell_type": "code",
      "source": [
        "for input_example,target_example in dataset.take(1):\n",
        "  print(\"Input :\",text_from_ids(input_example).numpy())\n",
        "  print(\"Target:\",text_from_ids(target_example).numpy())"
      ],
      "metadata": {
        "colab": {
          "base_uri": "https://localhost:8080/"
        },
        "id": "cpPPgOVtCp2J",
        "outputId": "e95373be-cd2f-4cd1-e307-7ba1e9000fb0"
      },
      "execution_count": 47,
      "outputs": [
        {
          "output_type": "stream",
          "name": "stdout",
          "text": [
            "Input : b'First Citizen:\\nBefore we proceed any further, hear me speak.\\n\\nAll:\\nSpeak, speak.\\n\\nFirst Citizen:\\nYou'\n",
            "Target: b'irst Citizen:\\nBefore we proceed any further, hear me speak.\\n\\nAll:\\nSpeak, speak.\\n\\nFirst Citizen:\\nYou '\n"
          ]
        }
      ]
    },
    {
      "cell_type": "markdown",
      "source": [
        "Membuat Batch Training"
      ],
      "metadata": {
        "id": "66GRFmwQCyK0"
      }
    },
    {
      "cell_type": "code",
      "source": [
        "# Batch size\n",
        "BATCH_SIZE = 64\n",
        "\n",
        "# Buffer size to shuffle the dataset\n",
        "# (TF data is designed to work with possibly infinite sequences,\n",
        "# so it doesn't attempt to shuffle the entire sequence in memory. Instead,\n",
        "# it maintains a buffer in which it shuffles elements).\n",
        "BUFFER_SIZE = 10000\n",
        "\n",
        "dataset = (\n",
        "    dataset\n",
        "    .shuffle(BUFFER_SIZE)\n",
        "    .batch(BATCH_SIZE, drop_remainder=True)\n",
        "    .prefetch(tf.data.experimental.AUTOTUNE))\n",
        "\n",
        "dataset"
      ],
      "metadata": {
        "colab": {
          "base_uri": "https://localhost:8080/"
        },
        "id": "7NhGWfCtCynh",
        "outputId": "7e808b02-f593-421a-ccb6-6d789e437bbd"
      },
      "execution_count": 48,
      "outputs": [
        {
          "output_type": "execute_result",
          "data": {
            "text/plain": [
              "<_PrefetchDataset element_spec=(TensorSpec(shape=(64, 100), dtype=tf.int64, name=None), TensorSpec(shape=(64, 100), dtype=tf.int64, name=None))>"
            ]
          },
          "metadata": {},
          "execution_count": 48
        }
      ]
    },
    {
      "cell_type": "markdown",
      "source": [
        "### **Buat Model**"
      ],
      "metadata": {
        "id": "Q4lNyKMo3nh_"
      }
    },
    {
      "cell_type": "code",
      "source": [
        "# Length of the vocabulary in StringLookup Layer\n",
        "vocab_size = len(ids_from_chars.get_vocabulary())\n",
        "\n",
        "# The embedding dimension\n",
        "embedding_dim = 256\n",
        "\n",
        "# Number of RNN units\n",
        "rnn_units = 1024"
      ],
      "metadata": {
        "id": "kMejFocJC2Co"
      },
      "execution_count": 49,
      "outputs": []
    },
    {
      "cell_type": "code",
      "source": [
        "class MyModel(tf.keras.Model):\n",
        "  def __init__(self, vocab_size, embedding_dim, rnn_units):\n",
        "    super().__init__(self)\n",
        "    self.embedding = tf.keras.layers.Embedding(vocab_size, embedding_dim)\n",
        "    self.gru = tf.keras.layers.GRU(rnn_units,\n",
        "                                   return_sequences=True,\n",
        "                                   return_state=True)\n",
        "    self.dense = tf.keras.layers.Dense(vocab_size)\n",
        "\n",
        "  def call(self, inputs, states=None, return_state=False, training=False):\n",
        "    x = inputs\n",
        "    x = self.embedding(x, training=training)\n",
        "    if states is None:\n",
        "      states = self.gru.get_initial_state(x)\n",
        "    x, states = self.gru(x, initial_state=states, training=training)\n",
        "    x = self.dense(x, training=training)\n",
        "\n",
        "    if return_state:\n",
        "      return x, states\n",
        "    else:\n",
        "      return x"
      ],
      "metadata": {
        "id": "LhPS32RJC4Pc"
      },
      "execution_count": 50,
      "outputs": []
    },
    {
      "cell_type": "code",
      "source": [
        "model = MyModel(\n",
        "    vocab_size=vocab_size,\n",
        "    embedding_dim=embedding_dim,\n",
        "    rnn_units=rnn_units)"
      ],
      "metadata": {
        "id": "c3bG3cuJC594"
      },
      "execution_count": 51,
      "outputs": []
    },
    {
      "cell_type": "markdown",
      "source": [
        "### **Uji Model**"
      ],
      "metadata": {
        "id": "FCZtB-2d3rqZ"
      }
    },
    {
      "cell_type": "code",
      "source": [
        "for input_example_batch, target_example_batch in dataset.take(1):\n",
        "    example_batch_predictions = model(input_example_batch)\n",
        "    print(example_batch_predictions.shape, \"# (batch_size, sequence_length, vocab_size)\")"
      ],
      "metadata": {
        "colab": {
          "base_uri": "https://localhost:8080/"
        },
        "id": "4LXYnqkqC9cT",
        "outputId": "a7ed7b2a-a6ed-4964-e08e-05b485562353"
      },
      "execution_count": 52,
      "outputs": [
        {
          "output_type": "stream",
          "name": "stdout",
          "text": [
            "(64, 100, 66) # (batch_size, sequence_length, vocab_size)\n"
          ]
        }
      ]
    },
    {
      "cell_type": "code",
      "source": [
        "model.summary()"
      ],
      "metadata": {
        "colab": {
          "base_uri": "https://localhost:8080/"
        },
        "id": "cICsgmxTC_FP",
        "outputId": "0abd4ed4-5aa6-4c58-ee72-c11ac3e2d8df"
      },
      "execution_count": 53,
      "outputs": [
        {
          "output_type": "stream",
          "name": "stdout",
          "text": [
            "Model: \"my_model\"\n",
            "_________________________________________________________________\n",
            " Layer (type)                Output Shape              Param #   \n",
            "=================================================================\n",
            " embedding_2 (Embedding)     multiple                  16896     \n",
            "                                                                 \n",
            " gru (GRU)                   multiple                  3938304   \n",
            "                                                                 \n",
            " dense_4 (Dense)             multiple                  67650     \n",
            "                                                                 \n",
            "=================================================================\n",
            "Total params: 4022850 (15.35 MB)\n",
            "Trainable params: 4022850 (15.35 MB)\n",
            "Non-trainable params: 0 (0.00 Byte)\n",
            "_________________________________________________________________\n"
          ]
        }
      ]
    },
    {
      "cell_type": "code",
      "source": [
        "sampled_indices=tf.random.categorical(example_batch_predictions[0],num_samples=1)\n",
        "sampled_indices=tf.squeeze(sampled_indices,axis=-1).numpy()"
      ],
      "metadata": {
        "id": "ZqZMXQdsDBtR"
      },
      "execution_count": 54,
      "outputs": []
    },
    {
      "cell_type": "code",
      "source": [
        "sampled_indices"
      ],
      "metadata": {
        "colab": {
          "base_uri": "https://localhost:8080/"
        },
        "id": "sCDugDfgLN0m",
        "outputId": "7f7f58ff-190b-4f72-8089-e9bb5e4dd5f9"
      },
      "execution_count": 55,
      "outputs": [
        {
          "output_type": "execute_result",
          "data": {
            "text/plain": [
              "array([28, 31,  5, 64, 23, 38, 14,  4, 41,  9, 62,  5, 62, 19, 56, 36, 17,\n",
              "        6, 14, 48, 26, 12, 29,  9, 30, 34, 10, 18,  5, 11, 10, 16, 55, 28,\n",
              "       34, 32,  0, 19, 55, 28,  2, 27, 63, 26, 23, 13, 43, 65, 10, 11, 55,\n",
              "       13, 52,  0, 24, 49, 64, 44, 41, 31, 25, 28,  3, 45,  9, 17, 55, 22,\n",
              "       31, 38,  3, 51,  0, 48, 27, 27, 40, 45, 45, 62,  7, 51,  1, 59, 23,\n",
              "       25, 26, 50,  7,  9,  0, 65, 50, 34, 41, 51,  5, 52, 23, 21])"
            ]
          },
          "metadata": {},
          "execution_count": 55
        }
      ]
    },
    {
      "cell_type": "code",
      "source": [
        "print(\"Input:\\n\",text_from_ids(input_example_batch[0]).numpy())\n",
        "print()\n",
        "print(\"Next Char Predictions:\\n\",text_from_ids(sampled_indices).numpy())"
      ],
      "metadata": {
        "colab": {
          "base_uri": "https://localhost:8080/"
        },
        "id": "no-47MZADGGj",
        "outputId": "667054cf-42d8-40b5-efe5-2e4dc779050d"
      },
      "execution_count": 56,
      "outputs": [
        {
          "output_type": "stream",
          "name": "stdout",
          "text": [
            "Input:\n",
            " b\"full intent\\nTo dash our late decree in parliament\\nTouching King Henry's oath and your succession.\\nSh\"\n",
            "\n",
            "Next Char Predictions:\n",
            " b\"OR&yJYA$b.w&wFqWD'AiM;P.QU3E&:3CpOUS[UNK]FpO NxMJ?dz3:p?m[UNK]KjyebRLO!f.DpIRY!l[UNK]iNNaffw,l\\ntJLMk,.[UNK]zkUbl&mJH\"\n"
          ]
        }
      ]
    },
    {
      "cell_type": "markdown",
      "source": [
        "### **Train Model**"
      ],
      "metadata": {
        "id": "lXhVDDNi3t5W"
      }
    },
    {
      "cell_type": "markdown",
      "source": [
        "Tambahan optimizer dan fungsi loss"
      ],
      "metadata": {
        "id": "fsysskWzDN3Q"
      }
    },
    {
      "cell_type": "code",
      "source": [
        "loss=tf.losses.SparseCategoricalCrossentropy(from_logits=True)"
      ],
      "metadata": {
        "id": "Bnd4vgvEDLAM"
      },
      "execution_count": 57,
      "outputs": []
    },
    {
      "cell_type": "code",
      "source": [
        "example_batch_mean_loss = loss(target_example_batch, example_batch_predictions)\n",
        "print(\"Prediction shape: \", example_batch_predictions.shape, \" # (batch_size, sequence_length, vocab_size)\")\n",
        "print(\"Mean loss:        \", example_batch_mean_loss)"
      ],
      "metadata": {
        "colab": {
          "base_uri": "https://localhost:8080/"
        },
        "id": "nplHfj76DQ95",
        "outputId": "d05a64ce-ff73-4d99-aaa9-b7560563bbf2"
      },
      "execution_count": 58,
      "outputs": [
        {
          "output_type": "stream",
          "name": "stdout",
          "text": [
            "Prediction shape:  (64, 100, 66)  # (batch_size, sequence_length, vocab_size)\n",
            "Mean loss:         tf.Tensor(4.1899624, shape=(), dtype=float32)\n"
          ]
        }
      ]
    },
    {
      "cell_type": "code",
      "source": [
        "tf.exp(example_batch_mean_loss).numpy()"
      ],
      "metadata": {
        "colab": {
          "base_uri": "https://localhost:8080/"
        },
        "id": "CQ-UIzYHDTpM",
        "outputId": "6df7f99f-8839-4881-ce21-8435a4ff5bf6"
      },
      "execution_count": 59,
      "outputs": [
        {
          "output_type": "execute_result",
          "data": {
            "text/plain": [
              "66.02031"
            ]
          },
          "metadata": {},
          "execution_count": 59
        }
      ]
    },
    {
      "cell_type": "code",
      "source": [
        "model.compile(optimizer='adam',loss=loss)"
      ],
      "metadata": {
        "id": "6j2eJY-zDVWt"
      },
      "execution_count": 60,
      "outputs": []
    },
    {
      "cell_type": "markdown",
      "source": [
        "Konfigurasi Checkpoints"
      ],
      "metadata": {
        "id": "USjgKwEEDaFb"
      }
    },
    {
      "cell_type": "code",
      "source": [
        "# Directory where the checkpoints will be saved\n",
        "checkpoint_dir = './training_checkpoints'\n",
        "# Name of the checkpoint files\n",
        "checkpoint_prefix = os.path.join(checkpoint_dir, \"ckpt_{epoch}\")\n",
        "\n",
        "checkpoint_callback = tf.keras.callbacks.ModelCheckpoint(\n",
        "    filepath=checkpoint_prefix,\n",
        "    save_weights_only=True)"
      ],
      "metadata": {
        "id": "J2v55HLwDagO"
      },
      "execution_count": 61,
      "outputs": []
    },
    {
      "cell_type": "markdown",
      "source": [
        "Lakukan Proses Training"
      ],
      "metadata": {
        "id": "VltSj9YwDhUk"
      }
    },
    {
      "cell_type": "code",
      "source": [
        "EPOCHS=5"
      ],
      "metadata": {
        "id": "FjZukMVtDcoi"
      },
      "execution_count": 62,
      "outputs": []
    },
    {
      "cell_type": "code",
      "source": [
        "history=model.fit(dataset,epochs=EPOCHS,callbacks=[checkpoint_callback])"
      ],
      "metadata": {
        "colab": {
          "base_uri": "https://localhost:8080/"
        },
        "id": "H2rPHQwWDkbH",
        "outputId": "72564b65-4e8e-4fed-86d5-4a08c845a5d4"
      },
      "execution_count": 63,
      "outputs": [
        {
          "output_type": "stream",
          "name": "stdout",
          "text": [
            "Epoch 1/5\n",
            "172/172 [==============================] - 125s 712ms/step - loss: 2.7147\n",
            "Epoch 2/5\n",
            "172/172 [==============================] - 123s 708ms/step - loss: 1.9851\n",
            "Epoch 3/5\n",
            "172/172 [==============================] - 123s 709ms/step - loss: 1.7085\n",
            "Epoch 4/5\n",
            "172/172 [==============================] - 122s 706ms/step - loss: 1.5483\n",
            "Epoch 5/5\n",
            "172/172 [==============================] - 123s 708ms/step - loss: 1.4501\n"
          ]
        }
      ]
    },
    {
      "cell_type": "markdown",
      "source": [
        "### **Generate Teks**"
      ],
      "metadata": {
        "id": "zMzf0SSr3xAO"
      }
    },
    {
      "cell_type": "code",
      "source": [
        "class OneStep(tf.keras.Model):\n",
        "  def __init__(self, model, chars_from_ids, ids_from_chars, temperature=1.0):\n",
        "    super().__init__()\n",
        "    self.temperature = temperature\n",
        "    self.model = model\n",
        "    self.chars_from_ids = chars_from_ids\n",
        "    self.ids_from_chars = ids_from_chars\n",
        "\n",
        "    # Create a mask to prevent \"[UNK]\" from being generated.\n",
        "    skip_ids = self.ids_from_chars(['[UNK]'])[:, None]\n",
        "    sparse_mask = tf.SparseTensor(\n",
        "        # Put a -inf at each bad index.\n",
        "        values=[-float('inf')]*len(skip_ids),\n",
        "        indices=skip_ids,\n",
        "        # Match the shape to the vocabulary\n",
        "        dense_shape=[len(ids_from_chars.get_vocabulary())])\n",
        "    self.prediction_mask = tf.sparse.to_dense(sparse_mask)\n",
        "\n",
        "  @tf.function\n",
        "  def generate_one_step(self, inputs, states=None):\n",
        "    # Convert strings to token IDs.\n",
        "    input_chars = tf.strings.unicode_split(inputs, 'UTF-8')\n",
        "    input_ids = self.ids_from_chars(input_chars).to_tensor()\n",
        "\n",
        "    # Run the model.\n",
        "    # predicted_logits.shape is [batch, char, next_char_logits]\n",
        "    predicted_logits, states = self.model(inputs=input_ids, states=states,\n",
        "                                          return_state=True)\n",
        "    # Only use the last prediction.\n",
        "    predicted_logits = predicted_logits[:, -1, :]\n",
        "    predicted_logits = predicted_logits/self.temperature\n",
        "    # Apply the prediction mask: prevent \"[UNK]\" from being generated.\n",
        "    predicted_logits = predicted_logits + self.prediction_mask\n",
        "\n",
        "    # Sample the output logits to generate token IDs.\n",
        "    predicted_ids = tf.random.categorical(predicted_logits, num_samples=1)\n",
        "    predicted_ids = tf.squeeze(predicted_ids, axis=-1)\n",
        "\n",
        "    # Convert from token ids to characters\n",
        "    predicted_chars = self.chars_from_ids(predicted_ids)\n",
        "\n",
        "    # Return the characters and model state.\n",
        "    return predicted_chars, states"
      ],
      "metadata": {
        "id": "cUev19xyDpzL"
      },
      "execution_count": 64,
      "outputs": []
    },
    {
      "cell_type": "code",
      "source": [
        "one_step_model=OneStep(model,chars_from_ids,ids_from_chars)"
      ],
      "metadata": {
        "id": "S0rsWZLwDsJm"
      },
      "execution_count": 65,
      "outputs": []
    },
    {
      "cell_type": "code",
      "source": [
        "start = time.time()\n",
        "states = None\n",
        "next_char = tf.constant(['ROMEO:'])\n",
        "result = [next_char]\n",
        "\n",
        "for n in range(1000):\n",
        "  next_char, states = one_step_model.generate_one_step(next_char, states=states)\n",
        "  result.append(next_char)\n",
        "\n",
        "result = tf.strings.join(result)\n",
        "end = time.time()\n",
        "print(result[0].numpy().decode('utf-8'), '\\n\\n' + '_'*80)\n",
        "print('\\nRun time:', end - start)"
      ],
      "metadata": {
        "colab": {
          "base_uri": "https://localhost:8080/"
        },
        "id": "-KhkR33RDvNf",
        "outputId": "2da30229-e23e-4ba7-9824-361e1af1a69d"
      },
      "execution_count": 66,
      "outputs": [
        {
          "output_type": "stream",
          "name": "stdout",
          "text": [
            "ROMEO:\n",
            "Tome hither in the likelity' bed,\n",
            "Pign of you, from me! come, herize me he mish,\n",
            "In to-gevair into thy main'd\n",
            "as I had fitked by with this age;\n",
            "With them unto thise your hands to my son, thou wert Cloude, you. Hark! I all a fring, by the subject,\n",
            "That talk you harm you side the left; you have done;\n",
            "Your masters from hangf, conscreation; you have.\n",
            "\n",
            "CLOREPERD:\n",
            "Did I protered man, all you will not daughtes and destramen\n",
            "Are holdous murderous, my ureful rang\n",
            "As his beant he day spitity.\n",
            "\n",
            "ANGOLO:\n",
            "Confess may forth on's the out and gratious, making shum as\n",
            "Tustress, encouns as he did love or spirit's\n",
            "Wilt rest undaintain That he would have bunings,\n",
            "There is he sad strike.\n",
            "\n",
            "FRIAR ThAMAS:\n",
            "I had made your night as madam to be.\n",
            "Sidisho you go?\n",
            "\n",
            "Plovan:\n",
            "Was grnate there lates.\n",
            "\n",
            "PETRUCHIO:\n",
            "Op you, sir; hire me,t tears less turn so,\n",
            "Extand's slid mine dear by books, and there\n",
            "Is the ile his ispence; for you crows?\n",
            "Think you have doth thy briof.\n",
            "\n",
            "DERBY:\n",
            "Thy lord, shiph there. Come, Hast, good,\n",
            "My m \n",
            "\n",
            "________________________________________________________________________________\n",
            "\n",
            "Run time: 2.840240716934204\n"
          ]
        }
      ]
    },
    {
      "cell_type": "code",
      "source": [
        "start = time.time()\n",
        "states = None\n",
        "next_char = tf.constant(['ROMEO:', 'ROMEO:', 'ROMEO:', 'ROMEO:', 'ROMEO:'])\n",
        "result = [next_char]\n",
        "\n",
        "for n in range(1000):\n",
        "  next_char, states = one_step_model.generate_one_step(next_char, states=states)\n",
        "  result.append(next_char)\n",
        "\n",
        "result = tf.strings.join(result)\n",
        "end = time.time()\n",
        "print(result, '\\n\\n' + '_'*80)\n",
        "print('\\nRun time:', end - start)"
      ],
      "metadata": {
        "colab": {
          "base_uri": "https://localhost:8080/"
        },
        "id": "V4PhiFIXDxXS",
        "outputId": "f3fe9377-3a38-4f1b-f5ac-2c6dbbb07c77"
      },
      "execution_count": 67,
      "outputs": [
        {
          "output_type": "stream",
          "name": "stdout",
          "text": [
            "tf.Tensor(\n",
            "[b\"ROMEO:\\nIt is our ewerio.\\nO my brother-good to Ladshan:\\nThe grace it stall as all yours, but thou nired she fast this mumire\\nOr that is one in't shall be struke it you; why not sade ye'er\\nIs grieved that may have kings not;\\nI'll prople my grace yrie youn it come.\\n\\nQUEEN ELIZABETH:\\nWirt you, look to ill husband I must quiet a sport.\\nThey art thou must me to the crocks hath woence\\n\\nDUKE OF AUMERLE:\\nClarence, how shall I pease.\\n\\nROMEO:\\nHath a wound up born, therefore:\\nDo it bear them all as hia?\\n\\nAUTONCUS:\\nAy, for the great many! But it fools\\nThe king's deaded upsoot his shatterble: good fidly day!\\nBut thou mayged blood thus bown.\\n\\nKING EDWARD IV:\\nHadward! Myself, like him, wills they here, out of grieves.\\nIs like E graus of the white thee rook not out may\\nWe shade thee be adviles, unnighty thy duke\\nMiss but disimous heard the rich proses,\\nAnd thy nedrering by them true this way.\\n\\nBRUTUS:\\nWhat drink he camest yoe.\\nThen he be the explace ip not: there's Peace,\\nWhenge he had hon? rusticed here,\\nIs\"\n",
            " b\"ROMEO:\\nGow on for minn:\\nYou crewngs, ham; 'tis but a wail beholding:\\nAnd what more spile to his business?\\nAnd mother, resolted my shall should not dejuite:\\nThat thou presainst of your maid: that tayes when the unchange that do so;\\nDeataking that have which weals Claudio?\\nA mots to get a Laws?\\n\\nBut sworn me, the king\\nSumplith, my lord; tell thee tall their chofies, aways;\\nReposting for men angier.\\n\\nMARCIUS:\\nAnd you will with more mothingest here we may\\nThat is that our capeness from him; e'er from me\\nThan there and unpenking mine,--\\nAs I conloy tyou honour.\\n\\nFirst Master:\\nAn the loia donous and thy last that wrong'd to\\nbrinks it wit, sir.\\n\\nCORIOLANUS:\\nFoolles before when pressuling.\\n\\nPETES:\\nWhilt see your voices: whose most soul\\nsweath, on thee patesten alone.\\n3 KING HENRY VI\\n\\nVIRGELIA:\\n\\nPRINCE EDWARD:\\nNo, like a Cloudnel royal.\\n\\nKING HENRY VI:\\nO, the armiple hath do imposs.\\n\\nBUCKINGHAM:\\nShe is a cause.\\n\\nPETRUTHO:\\nWhat you might; and not power him, his art thou wastable.\\n\\nKING EDWARD IVI:\\nIs \"\n",
            " b\"ROMEO:\\nI thy first of all harding me.\\n\\nGETRUCHIO:\\nLut the ssilour, sort be, anish and fing\\nOn master not sleep. Your renefies: you worthy\\nmaraties in grounds this is do ourselves death:\\nThat would take possing, which we caneft\\nThat time us true where? The best to their hastes!\\nAnd dis rediel'd obles to the king:\\nAnd stear'd apperition.\\n\\nNowas:\\nCome, your most grave is hime.\\n\\nJULIET:\\nOn that he's a sentering throw most to the dreasp!\\nHe priyes him be supple told in this wime can as at power\\nwill let my soul!\\nNow I will think you, but yourselve my craw thee?\\n\\nDUKE OF AUMERLE:\\nThis mind Tyral me, yet, if you have your taward.\\nYou can child that thou hand.\\n\\nSICINIUS:\\nYou shouldst deserve,\\nOne dukes upon his greatings up look upon\\nThe first by hin it Has in that dimisemy at\\nbiling upervesing my from my swords and his man\\nThat wail think you tell fellow their fars os lew's death;\\nAnd have honest me what him,\\nIs majeity simele: sheselades, nor changeding, my king:\\nTill I agot thy food springting,\\nA\"\n",
            " b\"ROMEO:\\nThus all his partented govy me, my lold,ful dames!\\n\\nLUCIO:\\nCoy, 'Tis sure, and but cludious leave, discaltions,\\nI foul in this time;\\nDik up surple, insthited age: his life:\\nFirtt him, creep thee; had make me too.\\nWas have; from he has the rept and lictle speed,\\nTill much mine one that thy privison\\nAs my hurd, conguies I pray.\\n\\nGLOUCESTER:\\nBut eye the churrer, seeming, and these ride to themselves;\\nMorral is marriage my woulds,\\nThou canst took your king, we both her wars thus?\\n\\nFadst:\\nYour insurello, dot this it not adgel ter:\\nThis holp my daughts, but what now redacedied\\nOr else contricention. If requarces!\\nPray dome field and, A shall you, is; Who Dark thee\\nTo mean them, thou sutsenceinch persed,\\nAnd seek hours'll purpaias, thou after,\\nThat thou tontues the dovess.\\n\\nShepherd:\\nThen,\\nThou keep to twick me away'd the law of them was tome, to our heard as we\\nAnd let us I like you? Ors, would lost this kinged, ehence, he hade.\\nIs bring it shall,\\nIt is barige.\\nO jest, K'll me will have I s\"\n",
            " b\"ROMEO:\\nThese bade me mine eye one to the cause;\\nOr hand, my chrounderly have; what thou hast no virgue\\nOf the nepps, nor treated some since on driem.\\n\\nKING HENRY VI:\\nThe matscrefus know you; appeal a pedard\\nEnglosing jussing awe but me!\\nO seeming even, do you come to\\nEven show the marician than thou art\\nwill but to-morrows hew she Whtrew the Duke.\\n\\nQUEEN ELIZABETH:\\nAway would his thing of thy grewarr\\nThat dod mean trabellous subit;\\nAnd there's mose sex done; so iffer a child at you all.\\nHow now at the other man:\\nGod on man, lieht thus foul thursy.\\nWas find eyble and some King Edward by our mountly\\nman here loved up but him well Jolucious,\\nOr so from his patience, come, you hate she flush and op kill,\\nTrue! It is it: let is back, which whose hears's heart\\nDuke, that you are by hurbland may in the diry.\\n\\nROMEO:\\nThou dongers but father grave,\\nConiting of his cupe Presure, your clambs, proud.\\n\\nBUSTY:\\nThen thyself the now Juliem's name:\\nNoible is threem o' the lies disposition\\nTake to that wish m\"], shape=(5,), dtype=string) \n",
            "\n",
            "________________________________________________________________________________\n",
            "\n",
            "Run time: 2.587550401687622\n"
          ]
        }
      ]
    },
    {
      "cell_type": "markdown",
      "source": [
        "### **Ekspor Model Generator**"
      ],
      "metadata": {
        "id": "XEkBiyPV30HY"
      }
    },
    {
      "cell_type": "code",
      "execution_count": 68,
      "metadata": {
        "colab": {
          "base_uri": "https://localhost:8080/"
        },
        "id": "zaz3a1IL2gDi",
        "outputId": "03301ac9-322f-4402-bd1d-5c8bccc9da93"
      },
      "outputs": [
        {
          "output_type": "stream",
          "name": "stderr",
          "text": [
            "WARNING:tensorflow:Skipping full serialization of Keras layer <__main__.OneStep object at 0x7a4571f57580>, because it is not built.\n",
            "WARNING:tensorflow:Model's `__init__()` arguments contain non-serializable objects. Please implement a `get_config()` method in the subclassed Model for proper saving and loading. Defaulting to empty config.\n",
            "WARNING:tensorflow:Model's `__init__()` arguments contain non-serializable objects. Please implement a `get_config()` method in the subclassed Model for proper saving and loading. Defaulting to empty config.\n"
          ]
        }
      ],
      "source": [
        "tf.saved_model.save(one_step_model, 'one_step')\n",
        "one_step_reloaded = tf.saved_model.load('one_step')"
      ]
    },
    {
      "cell_type": "code",
      "source": [
        "states = None\n",
        "next_char = tf.constant(['ROMEO:'])\n",
        "result = [next_char]\n",
        "\n",
        "for n in range(100):\n",
        "  next_char, states = one_step_reloaded.generate_one_step(next_char, states=states)\n",
        "  result.append(next_char)\n",
        "\n",
        "print(tf.strings.join(result)[0].numpy().decode(\"utf-8\"))"
      ],
      "metadata": {
        "colab": {
          "base_uri": "https://localhost:8080/"
        },
        "id": "xmehjw5JDzoJ",
        "outputId": "2747a64f-0100-436c-b529-c84b06e838dd"
      },
      "execution_count": 69,
      "outputs": [
        {
          "output_type": "stream",
          "name": "stdout",
          "text": [
            "ROMEO:\n",
            "There's no manner preveath be samisedf\n",
            "And hath falsh of swaltly respailing, and throut gurse.\n",
            "O ha\n"
          ]
        }
      ]
    }
  ]
}